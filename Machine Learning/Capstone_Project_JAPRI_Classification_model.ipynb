{
  "nbformat": 4,
  "nbformat_minor": 0,
  "metadata": {
    "colab": {
      "provenance": [],
      "gpuType": "T4"
    },
    "kernelspec": {
      "name": "python3",
      "display_name": "Python 3"
    },
    "language_info": {
      "name": "python"
    },
    "accelerator": "GPU"
  },
  "cells": [
    {
      "cell_type": "code",
      "execution_count": null,
      "metadata": {
        "id": "bwfQ3cKJPaKx"
      },
      "outputs": [],
      "source": [
        "import csv\n",
        "import numpy as np\n",
        "import tensorflow as tf\n",
        "from tensorflow.keras.preprocessing.text import Tokenizer\n",
        "from tensorflow.keras.preprocessing.sequence import pad_sequences\n",
        "import matplotlib.pyplot as plt"
      ]
    },
    {
      "cell_type": "code",
      "source": [
        "data_CSV = './sample_data/Dataset Pekerjaan - Job Seeker.csv'\n",
        "\n",
        "# cek data csv\n",
        "with open(data_CSV, 'r') as csvfile:\n",
        "    print(f\"Header looks like this:\\n\\n{csvfile.readline()}\")\n",
        "    print(f\"First data point looks like this:\\n\\n{csvfile.readline()}\")\n",
        "    print(f\"Second data point looks like this:\\n\\n{csvfile.readline()}\")"
      ],
      "metadata": {
        "colab": {
          "base_uri": "https://localhost:8080/"
        },
        "id": "OgTHL75Kj0R4",
        "outputId": "fd17f24e-873e-4d4b-8441-9572ab386c15"
      },
      "execution_count": null,
      "outputs": [
        {
          "output_type": "stream",
          "name": "stdout",
          "text": [
            "Header looks like this:\n",
            "\n",
            "ID,Bidang Pekerjaan,Deskripsi Diri\n",
            "\n",
            "First data point looks like this:\n",
            "\n",
            "1,Pelayanan,Saya memiliki pengalaman dalam membersihkan dan merapikan kamar tamu serta area umum hotel.\n",
            "\n",
            "Second data point looks like this:\n",
            "\n",
            "2,Pelayanan,Saya memiliki pengalaman dalam membantu dalam proses pembuatan dan formulasi produk roti dan kue.\n",
            "\n"
          ]
        }
      ]
    },
    {
      "cell_type": "markdown",
      "source": [
        "##Parameter"
      ],
      "metadata": {
        "id": "_5r1jOzbH8QB"
      }
    },
    {
      "cell_type": "code",
      "source": [
        "NUM_WORDS = 1000\n",
        "EMBEDDING_DIM = 16\n",
        "MAXLEN = 120\n",
        "PADDING = 'post'\n",
        "OOV_TOKEN = \"<OOV>\"\n",
        "TRAINING_SPLIT = .8"
      ],
      "metadata": {
        "id": "AOKRxki9H_1m"
      },
      "execution_count": null,
      "outputs": []
    },
    {
      "cell_type": "markdown",
      "source": [
        "##Persiapan Data"
      ],
      "metadata": {
        "id": "4ZQ6AehNIFqK"
      }
    },
    {
      "cell_type": "code",
      "source": [
        "def remove_stopwords(sentence):\n",
        "    # List of stopwords\n",
        "    stopwords = [\"yang\", \"untuk\", \"pada\", \"ke\", \"para\", \"namun\", \"menurut\", \"antara\", \"dia\", \"dua\", \"ia\", \"seperti\", \"jika\", \"sehingga\", \"kembali\", \"dan\", \"tidak\", \"ini\", \"karena\", \"kepada\", \"oleh\", \"saat\", \"harus\", \"sementara\", \"setelah\", \"belum\", \"kami\", \"sekitar\", \"bagi\", \"serta\", \"di\", \"dari\", \"telah\", \"sebagai\", \"masih\", \"hal\", \"ketika\", \"adalah\", \"itu\", \"dalam\", \"bisa\", \"bahwa\", \"atau\", \"hanya\", \"kita\", \"dengan\", \"akan\", \"juga\", \"ada\", \"mereka\", \"sudah\", \"saya\", \"terhadap\", \"secara\", \"agar\", \"lain\", \"anda\", \"begitu\", \"mengapa\", \"kenapa\", \"yaitu\", \"yakni\", \"daripada\", \"itulah\", \"lagi\", \"maka\", \"tentang\", \"demi\", \"dimana\", \"kemana\", \"pula\", \"sambil\", \"sebelum\", \"sesudah\", \"supaya\", \"guna\", \"kah\", \"pun\", \"sampai\", \"sedangkan\", \"selagi\", \"sementara\", \"tetapi\", \"apakah\", \"kecuali\", \"sebab\", \"selain\", \"seolah\", \"seraya\", \"seterusnya\", \"tanpa\", \"agak\", \"boleh\", \"dapat\", \"dsb\", \"dst\", \"dll\", \"dahulu\", \"dulunya\", \"anu\", \"demikian\", \"tapi\", \"ingin\", \"juga\", \"nggak\", \"mari\", \"nanti\", \"melainkan\", \"oh\", \"ok\", \"seharusnya\", \"sebetulnya\", \"setiap\", \"setidaknya\", \"sesuatu\", \"pasti\", \"saja\", \"toh\", \"ya\", \"walau\", \"tolong \", \"tentu\", \"amat\", \"apalagi\", \"bagaimanapun\", \"dengan\", \"ia\", \"bahwa\", \"oleh\"]\n",
        "    # Sentence converted to lowercase-only\n",
        "    sentence = sentence.lower()\n",
        "\n",
        "    words = sentence.split()\n",
        "    no_words = [w for w in words if w not in stopwords]\n",
        "    sentence = \" \".join(no_words)\n",
        "\n",
        "    return sentence\n",
        "\n",
        "\n",
        "def parse_data_from_file(filename):\n",
        "    sentences = []\n",
        "    labels = []\n",
        "    with open(filename, 'r') as csvfile:\n",
        "        reader = csv.reader(csvfile, delimiter=',')\n",
        "        next(reader)\n",
        "        for row in reader:\n",
        "            labels.append(row[1])\n",
        "            sentence = row[2]\n",
        "            sentence = remove_stopwords(sentence)\n",
        "            sentences.append(sentence)\n",
        "\n",
        "    return sentences, labels"
      ],
      "metadata": {
        "id": "PZfOOyYqIJRO"
      },
      "execution_count": null,
      "outputs": []
    },
    {
      "cell_type": "code",
      "source": [
        "# Test the functions\n",
        "sentences, labels = parse_data_from_file(\"./sample_data/Dataset Pekerjaan - Job Seeker.csv\")\n",
        "\n",
        "print(f\"There are {len(sentences)} sentences in the dataset.\\n\")\n",
        "print(f\"First sentence has {len(sentences[0].split())} words (after removing stopwords).\\n\")\n",
        "print(f\"There are {len(labels)} labels in the dataset.\\n\")\n",
        "print(f\"The first 5 labels are {labels[:5]}\")"
      ],
      "metadata": {
        "colab": {
          "base_uri": "https://localhost:8080/"
        },
        "id": "gtG_x1v-MtJ_",
        "outputId": "7a92570a-dc4c-4a8b-95c8-a654f335fab4"
      },
      "execution_count": null,
      "outputs": [
        {
          "output_type": "stream",
          "name": "stdout",
          "text": [
            "There are 163 sentences in the dataset.\n",
            "\n",
            "First sentence has 9 words (after removing stopwords).\n",
            "\n",
            "There are 163 labels in the dataset.\n",
            "\n",
            "The first 5 labels are ['Pelayanan', 'Pelayanan', 'Logistik', 'Penjualan', 'Pendidikan']\n"
          ]
        }
      ]
    },
    {
      "cell_type": "markdown",
      "source": [
        "##Split Data"
      ],
      "metadata": {
        "id": "wnDl0RkZM54w"
      }
    },
    {
      "cell_type": "code",
      "source": [
        "def train_val_split(sentences, labels, training_split):\n",
        "    # Compute the number of sentences that will be used for training (should be an integer)\n",
        "    train_size = int(len(sentences)*training_split)\n",
        "\n",
        "    # Split the sentences and labels into train/validation splits\n",
        "    train_sentences = sentences[:train_size]\n",
        "    train_labels = labels[:train_size]\n",
        "\n",
        "    validation_sentences = sentences[train_size:]\n",
        "    validation_labels = labels[train_size:]\n",
        "\n",
        "    ### END CODE HERE\n",
        "\n",
        "    return train_sentences, validation_sentences, train_labels, validation_labels"
      ],
      "metadata": {
        "id": "IvOdFazBNAAE"
      },
      "execution_count": null,
      "outputs": []
    },
    {
      "cell_type": "code",
      "source": [
        "train_sentences, val_sentences, train_labels, val_labels = train_val_split(sentences, labels, TRAINING_SPLIT)\n",
        "\n",
        "print(f\"There are {len(train_sentences)} sentences for training.\\n\")\n",
        "print(f\"There are {len(train_labels)} labels for training.\\n\")\n",
        "print(f\"There are {len(val_sentences)} sentences for validation.\\n\")\n",
        "print(f\"There are {len(val_labels)} labels for validation.\")"
      ],
      "metadata": {
        "colab": {
          "base_uri": "https://localhost:8080/"
        },
        "id": "U0fE6pcgNK_i",
        "outputId": "d6db298a-d1d4-4f99-aed3-46013cc75ec9"
      },
      "execution_count": null,
      "outputs": [
        {
          "output_type": "stream",
          "name": "stdout",
          "text": [
            "There are 130 sentences for training.\n",
            "\n",
            "There are 130 labels for training.\n",
            "\n",
            "There are 33 sentences for validation.\n",
            "\n",
            "There are 33 labels for validation.\n"
          ]
        }
      ]
    },
    {
      "cell_type": "markdown",
      "source": [
        "##Tokenizer"
      ],
      "metadata": {
        "id": "qJujfubSHlRj"
      }
    },
    {
      "cell_type": "code",
      "source": [
        "def fit_tokenizer(train_sentences, num_words, oov_token):\n",
        "    # Instantiate the Tokenizer class, passing in the correct values for num_words and oov_token\n",
        "    tokenizer = Tokenizer(num_words = num_words, oov_token=oov_token)\n",
        "\n",
        "    # Fit the tokenizer to the training sentences\n",
        "    tokenizer.fit_on_texts(train_sentences)\n",
        "\n",
        "    return tokenizer"
      ],
      "metadata": {
        "id": "xHjFe2gykylu"
      },
      "execution_count": null,
      "outputs": []
    },
    {
      "cell_type": "code",
      "source": [
        "# Test your function\n",
        "tokenizer = fit_tokenizer(train_sentences, NUM_WORDS, OOV_TOKEN)\n",
        "word_index = tokenizer.word_index\n",
        "\n",
        "print(f\"Vocabulary contains {len(word_index)} words\\n\")\n",
        "print(\"<OOV> token included in vocabulary\" if \"<OOV>\" in word_index else \"<OOV> token NOT included in vocabulary\")"
      ],
      "metadata": {
        "colab": {
          "base_uri": "https://localhost:8080/"
        },
        "id": "crnAvxQxNUuN",
        "outputId": "fcaaef11-371c-4d3c-d850-a122ee639b03"
      },
      "execution_count": null,
      "outputs": [
        {
          "output_type": "stream",
          "name": "stdout",
          "text": [
            "Vocabulary contains 416 words\n",
            "\n",
            "<OOV> token included in vocabulary\n"
          ]
        }
      ]
    },
    {
      "cell_type": "markdown",
      "source": [
        "##Sequence dan Padding data"
      ],
      "metadata": {
        "id": "g2T9tN9RNXhP"
      }
    },
    {
      "cell_type": "code",
      "source": [
        "def seq_and_pad(sentences, tokenizer, padding, maxlen):\n",
        "    # Convert sentences to sequences\n",
        "    sequences = tokenizer.texts_to_sequences(sentences)\n",
        "\n",
        "    # Pad the sequences using the correct padding and maxlen\n",
        "    padded_sequences = pad_sequences(sequences, maxlen=maxlen, padding=padding)\n",
        "\n",
        "    return padded_sequences"
      ],
      "metadata": {
        "id": "cmxMUXaGoqOJ"
      },
      "execution_count": null,
      "outputs": []
    },
    {
      "cell_type": "code",
      "source": [
        "# Test your function\n",
        "train_padded_seq = seq_and_pad(train_sentences, tokenizer, PADDING, MAXLEN)\n",
        "val_padded_seq = seq_and_pad(val_sentences, tokenizer, PADDING, MAXLEN)\n",
        "\n",
        "print(f\"Padded training sequences have shape: {train_padded_seq.shape}\\n\")\n",
        "print(f\"Padded validation sequences have shape: {val_padded_seq.shape}\")"
      ],
      "metadata": {
        "id": "DMtCTNevlKCe",
        "colab": {
          "base_uri": "https://localhost:8080/"
        },
        "outputId": "0aded18c-8ba2-4e01-a23d-aa8f4f82ad22"
      },
      "execution_count": null,
      "outputs": [
        {
          "output_type": "stream",
          "name": "stdout",
          "text": [
            "Padded training sequences have shape: (130, 120)\n",
            "\n",
            "Padded validation sequences have shape: (33, 120)\n"
          ]
        }
      ]
    },
    {
      "cell_type": "markdown",
      "source": [
        "##Memberi Token pada Label"
      ],
      "metadata": {
        "id": "2kgof2a6N7_C"
      }
    },
    {
      "cell_type": "code",
      "source": [
        "def tokenize_labels(all_labels, split_labels):\n",
        "    # Instantiate the Tokenizer (no additional arguments needed)\n",
        "    label_tokenizer = Tokenizer()\n",
        "\n",
        "    # Fit the tokenizer on all the labels\n",
        "    label_tokenizer.fit_on_texts(all_labels)\n",
        "\n",
        "    # Convert labels to sequences\n",
        "    label_seq = label_tokenizer.texts_to_sequences(split_labels)\n",
        "\n",
        "    # Convert sequences to a numpy array. Don't forget to substact 1 from every entry in the array!\n",
        "    label_seq_np = np.array(label_seq) - 1\n",
        "\n",
        "    return label_seq_np"
      ],
      "metadata": {
        "id": "XfjAPEI5N_Vl"
      },
      "execution_count": null,
      "outputs": []
    },
    {
      "cell_type": "code",
      "source": [
        "# Test your function\n",
        "train_label_seq = tokenize_labels(labels, train_labels)\n",
        "val_label_seq = tokenize_labels(labels, val_labels)\n",
        "\n",
        "print(f\"First 5 labels of the training set should look like this:\\n{train_label_seq[:5]}\\n\")\n",
        "print(f\"First 5 labels of the validation set should look like this:\\n{val_label_seq[:5]}\\n\")\n",
        "print(f\"Tokenized labels of the training set have shape: {train_label_seq.shape}\\n\")\n",
        "print(f\"Tokenized labels of the validation set have shape: {val_label_seq.shape}\\n\")"
      ],
      "metadata": {
        "colab": {
          "base_uri": "https://localhost:8080/"
        },
        "id": "hvp3TXRvOFBN",
        "outputId": "eea41ccb-2b6e-4db9-cca3-2aa8974c36d6"
      },
      "execution_count": null,
      "outputs": [
        {
          "output_type": "stream",
          "name": "stdout",
          "text": [
            "First 5 labels of the training set should look like this:\n",
            "[[ 0]\n",
            " [ 0]\n",
            " [ 1]\n",
            " [10]\n",
            " [ 2]]\n",
            "\n",
            "First 5 labels of the validation set should look like this:\n",
            "[[ 8]\n",
            " [ 2]\n",
            " [ 6]\n",
            " [ 0]\n",
            " [10]]\n",
            "\n",
            "Tokenized labels of the training set have shape: (130, 1)\n",
            "\n",
            "Tokenized labels of the validation set have shape: (33, 1)\n",
            "\n"
          ]
        }
      ]
    },
    {
      "cell_type": "markdown",
      "source": [
        "##Function Model"
      ],
      "metadata": {
        "id": "nJghOpmAOKA0"
      }
    },
    {
      "cell_type": "code",
      "source": [
        "def create_model(num_words, embedding_dim, maxlen):\n",
        "\n",
        "    tf.random.set_seed(123)\n",
        "\n",
        "    model = tf.keras.Sequential([\n",
        "        tf.keras.layers.Embedding(num_words, embedding_dim, input_length=maxlen),\n",
        "        tf.keras.layers.GlobalAveragePooling1D(),\n",
        "        tf.keras.layers.Dense(24, activation='relu'),\n",
        "        tf.keras.layers.Dense(10, activation='softmax')\n",
        "    ])\n",
        "\n",
        "    model.compile(loss='sparse_categorical_crossentropy',\n",
        "                  optimizer='adam',\n",
        "                  metrics=['accuracy'])\n",
        "\n",
        "    return model"
      ],
      "metadata": {
        "id": "GkKkYVT6ONdO"
      },
      "execution_count": null,
      "outputs": []
    },
    {
      "cell_type": "code",
      "source": [
        "model = create_model(NUM_WORDS, EMBEDDING_DIM, MAXLEN)\n",
        "\n",
        "history = model.fit(train_padded_seq, train_label_seq, epochs=30, validation_data=(val_padded_seq, val_label_seq))"
      ],
      "metadata": {
        "colab": {
          "base_uri": "https://localhost:8080/"
        },
        "id": "7eOZRgsLOa0T",
        "outputId": "625bad02-e57d-4ae5-d873-eeaa8599d27a"
      },
      "execution_count": null,
      "outputs": [
        {
          "output_type": "stream",
          "name": "stdout",
          "text": [
            "Epoch 1/30\n",
            "5/5 [==============================] - 6s 205ms/step - loss: nan - accuracy: 0.2538 - val_loss: nan - val_accuracy: 0.3333\n",
            "Epoch 2/30\n",
            "5/5 [==============================] - 1s 126ms/step - loss: nan - accuracy: 0.3000 - val_loss: nan - val_accuracy: 0.3333\n",
            "Epoch 3/30\n",
            "5/5 [==============================] - 1s 157ms/step - loss: nan - accuracy: 0.3000 - val_loss: nan - val_accuracy: 0.3333\n",
            "Epoch 4/30\n",
            "5/5 [==============================] - 1s 86ms/step - loss: nan - accuracy: 0.3000 - val_loss: nan - val_accuracy: 0.3333\n",
            "Epoch 5/30\n",
            "5/5 [==============================] - 1s 124ms/step - loss: nan - accuracy: 0.3000 - val_loss: nan - val_accuracy: 0.3333\n",
            "Epoch 6/30\n",
            "5/5 [==============================] - 0s 47ms/step - loss: nan - accuracy: 0.3000 - val_loss: nan - val_accuracy: 0.3333\n",
            "Epoch 7/30\n",
            "5/5 [==============================] - 0s 86ms/step - loss: nan - accuracy: 0.3000 - val_loss: nan - val_accuracy: 0.3333\n",
            "Epoch 8/30\n",
            "5/5 [==============================] - 0s 121ms/step - loss: nan - accuracy: 0.3000 - val_loss: nan - val_accuracy: 0.3333\n",
            "Epoch 9/30\n",
            "5/5 [==============================] - 1s 129ms/step - loss: nan - accuracy: 0.3000 - val_loss: nan - val_accuracy: 0.3333\n",
            "Epoch 10/30\n",
            "5/5 [==============================] - 0s 86ms/step - loss: nan - accuracy: 0.3000 - val_loss: nan - val_accuracy: 0.3333\n",
            "Epoch 11/30\n",
            "5/5 [==============================] - 1s 126ms/step - loss: nan - accuracy: 0.3000 - val_loss: nan - val_accuracy: 0.3333\n",
            "Epoch 12/30\n",
            "5/5 [==============================] - 1s 127ms/step - loss: nan - accuracy: 0.3000 - val_loss: nan - val_accuracy: 0.3333\n",
            "Epoch 13/30\n",
            "5/5 [==============================] - 0s 52ms/step - loss: nan - accuracy: 0.3000 - val_loss: nan - val_accuracy: 0.3333\n",
            "Epoch 14/30\n",
            "5/5 [==============================] - 0s 87ms/step - loss: nan - accuracy: 0.3000 - val_loss: nan - val_accuracy: 0.3333\n",
            "Epoch 15/30\n",
            "5/5 [==============================] - 0s 62ms/step - loss: nan - accuracy: 0.3000 - val_loss: nan - val_accuracy: 0.3333\n",
            "Epoch 16/30\n",
            "5/5 [==============================] - 0s 14ms/step - loss: nan - accuracy: 0.3000 - val_loss: nan - val_accuracy: 0.3333\n",
            "Epoch 17/30\n",
            "5/5 [==============================] - 0s 20ms/step - loss: nan - accuracy: 0.3000 - val_loss: nan - val_accuracy: 0.3333\n",
            "Epoch 18/30\n",
            "5/5 [==============================] - 1s 137ms/step - loss: nan - accuracy: 0.3000 - val_loss: nan - val_accuracy: 0.3333\n",
            "Epoch 19/30\n",
            "5/5 [==============================] - 0s 15ms/step - loss: nan - accuracy: 0.3000 - val_loss: nan - val_accuracy: 0.3333\n",
            "Epoch 20/30\n",
            "5/5 [==============================] - 0s 75ms/step - loss: nan - accuracy: 0.3000 - val_loss: nan - val_accuracy: 0.3333\n",
            "Epoch 21/30\n",
            "5/5 [==============================] - 0s 17ms/step - loss: nan - accuracy: 0.3000 - val_loss: nan - val_accuracy: 0.3333\n",
            "Epoch 22/30\n",
            "5/5 [==============================] - 1s 135ms/step - loss: nan - accuracy: 0.3000 - val_loss: nan - val_accuracy: 0.3333\n",
            "Epoch 23/30\n",
            "5/5 [==============================] - 0s 79ms/step - loss: nan - accuracy: 0.3000 - val_loss: nan - val_accuracy: 0.3333\n",
            "Epoch 24/30\n",
            "5/5 [==============================] - 0s 15ms/step - loss: nan - accuracy: 0.3000 - val_loss: nan - val_accuracy: 0.3333\n",
            "Epoch 25/30\n",
            "5/5 [==============================] - 0s 72ms/step - loss: nan - accuracy: 0.3000 - val_loss: nan - val_accuracy: 0.3333\n",
            "Epoch 26/30\n",
            "5/5 [==============================] - 0s 13ms/step - loss: nan - accuracy: 0.3000 - val_loss: nan - val_accuracy: 0.3333\n",
            "Epoch 27/30\n",
            "5/5 [==============================] - 1s 76ms/step - loss: nan - accuracy: 0.3000 - val_loss: nan - val_accuracy: 0.3333\n",
            "Epoch 28/30\n",
            "5/5 [==============================] - 0s 55ms/step - loss: nan - accuracy: 0.3000 - val_loss: nan - val_accuracy: 0.3333\n",
            "Epoch 29/30\n",
            "5/5 [==============================] - 0s 10ms/step - loss: nan - accuracy: 0.3000 - val_loss: nan - val_accuracy: 0.3333\n",
            "Epoch 30/30\n",
            "5/5 [==============================] - 0s 12ms/step - loss: nan - accuracy: 0.3000 - val_loss: nan - val_accuracy: 0.3333\n"
          ]
        }
      ]
    },
    {
      "cell_type": "markdown",
      "source": [
        "#Visualisasi Training"
      ],
      "metadata": {
        "id": "uPVsYsZpOeep"
      }
    },
    {
      "cell_type": "code",
      "source": [
        "def plot_graphs(history, metric):\n",
        "    plt.plot(history.history[metric])\n",
        "    plt.plot(history.history[f'val_{metric}'])\n",
        "    plt.xlabel(\"Epochs\")\n",
        "    plt.ylabel(metric)\n",
        "    plt.legend([metric, f'val_{metric}'])\n",
        "    plt.show()\n",
        "\n",
        "plot_graphs(history, \"accuracy\")\n",
        "plot_graphs(history, \"loss\")"
      ],
      "metadata": {
        "colab": {
          "base_uri": "https://localhost:8080/",
          "height": 881
        },
        "id": "cRkriTiKOiQc",
        "outputId": "ebb071b0-5a4d-435b-9c2b-e25f296b45a3"
      },
      "execution_count": null,
      "outputs": [
        {
          "output_type": "display_data",
          "data": {
            "text/plain": [
              "<Figure size 640x480 with 1 Axes>"
            ],
            "image/png": "[encoded data removed]"
          },
          "metadata": {}
        },
        {
          "output_type": "display_data",
          "data": {
            "text/plain": [
              "<Figure size 640x480 with 1 Axes>"
            ],
            "image/png": "[encoded data removed]"
          },
          "metadata": {}
        }
      ]
    }
  ]
}