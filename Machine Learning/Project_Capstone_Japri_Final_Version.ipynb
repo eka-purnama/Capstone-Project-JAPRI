{
  "cells": [
    {
      "cell_type": "markdown",
      "metadata": {
        "id": "w2twGrEx6G94"
      },
      "source": [
        "# Mengimport LIbrary"
      ]
    },
    {
      "cell_type": "code",
      "execution_count": null,
      "metadata": {
        "id": "sI5EstM0mBqf"
      },
      "outputs": [],
      "source": [
        "import tensorflow as tf\n",
        "import matplotlib.pyplot as plt\n",
        "import numpy as np\n",
        "import pandas as pd\n",
        "\n",
        "from transformers import BertTokenizer, TFBertModel\n",
        "from tensorflow.keras.layers import Dense, Dropout, Input\n",
        "from tensorflow.keras.models import Model\n",
        "from sklearn.preprocessing import LabelEncoder\n",
        "from sklearn.model_selection import train_test_split\n",
        "from sklearn.metrics.pairwise import cosine_similarity\n",
        "from tensorflow.keras.models import load_model"
      ]
    },
    {
      "cell_type": "markdown",
      "metadata": {
        "id": "oP6g4Znz6KTR"
      },
      "source": [
        "# Load DataSet"
      ]
    },
    {
      "cell_type": "code",
      "execution_count": null,
      "metadata": {
        "colab": {
          "base_uri": "https://localhost:8080/",
          "height": 206
        },
        "id": "QJqC1oALqJoE",
        "outputId": "b45fe879-4569-4ece-f35c-63bcf9c97925"
      },
      "outputs": [
        {
          "data": {
            "text/html": [
              "\n",
              "  <div id=\"df-bc742c31-1832-46f8-a3ba-021d2fe29bd8\" class=\"colab-df-container\">\n",
              "    <div>\n",
              "<style scoped>\n",
              "    .dataframe tbody tr th:only-of-type {\n",
              "        vertical-align: middle;\n",
              "    }\n",
              "\n",
              "    .dataframe tbody tr th {\n",
              "        vertical-align: top;\n",
              "    }\n",
              "\n",
              "    .dataframe thead th {\n",
              "        text-align: right;\n",
              "    }\n",
              "</style>\n",
              "<table border=\"1\" class=\"dataframe\">\n",
              "  <thead>\n",
              "    <tr style=\"text-align: right;\">\n",
              "      <th></th>\n",
              "      <th>ID</th>\n",
              "      <th>Nama Pekerjaan</th>\n",
              "      <th>Bidang Pekerjaan</th>\n",
              "      <th>Deskripsi Diri</th>\n",
              "    </tr>\n",
              "  </thead>\n",
              "  <tbody>\n",
              "    <tr>\n",
              "      <th>0</th>\n",
              "      <td>1</td>\n",
              "      <td>Petugas Kebersihan Kamar (DW)</td>\n",
              "      <td>Pelayanan</td>\n",
              "      <td>Melaksanakan dengan teliti dan penuh tanggung ...</td>\n",
              "    </tr>\n",
              "    <tr>\n",
              "      <th>1</th>\n",
              "      <td>2</td>\n",
              "      <td>Petugas Kebersihan Kamar (DW)</td>\n",
              "      <td>Pelayanan</td>\n",
              "      <td>Menjaga standar kebersihan yang tinggi dan mem...</td>\n",
              "    </tr>\n",
              "    <tr>\n",
              "      <th>2</th>\n",
              "      <td>3</td>\n",
              "      <td>Petugas Kebersihan Kamar (DW)</td>\n",
              "      <td>Pelayanan</td>\n",
              "      <td>Melakukan tugas-tugas rutin pembersihan dengan...</td>\n",
              "    </tr>\n",
              "    <tr>\n",
              "      <th>3</th>\n",
              "      <td>4</td>\n",
              "      <td>Asisten Baking dan Formulasi (DW)</td>\n",
              "      <td>Pelayanan</td>\n",
              "      <td>Mendukung proses pembuatan produk roti dan kue...</td>\n",
              "    </tr>\n",
              "    <tr>\n",
              "      <th>4</th>\n",
              "      <td>5</td>\n",
              "      <td>Asisten Baking dan Formulasi (DW)</td>\n",
              "      <td>Pelayanan</td>\n",
              "      <td>Berperan dalam mengembangkan resep-resep baru ...</td>\n",
              "    </tr>\n",
              "  </tbody>\n",
              "</table>\n",
              "</div>\n",
              "    <div class=\"colab-df-buttons\">\n",
              "\n",
              "  <div class=\"colab-df-container\">\n",
              "    <button class=\"colab-df-convert\" onclick=\"convertToInteractive('df-bc742c31-1832-46f8-a3ba-021d2fe29bd8')\"\n",
              "            title=\"Convert this dataframe to an interactive table.\"\n",
              "            style=\"display:none;\">\n",
              "\n",
              "  <svg xmlns=\"http://www.w3.org/2000/svg\" height=\"24px\" viewBox=\"0 -960 960 960\">\n",
              "    <path d=\"M120-120v-720h720v720H120Zm60-500h600v-160H180v160Zm220 220h160v-160H400v160Zm0 220h160v-160H400v160ZM180-400h160v-160H180v160Zm440 0h160v-160H620v160ZM180-180h160v-160H180v160Zm440 0h160v-160H620v160Z\"/>\n",
              "  </svg>\n",
              "    </button>\n",
              "\n",
              "  <style>\n",
              "    .colab-df-container {\n",
              "      display:flex;\n",
              "      gap: 12px;\n",
              "    }\n",
              "\n",
              "    .colab-df-convert {\n",
              "      background-color: #E8F0FE;\n",
              "      border: none;\n",
              "      border-radius: 50%;\n",
              "      cursor: pointer;\n",
              "      display: none;\n",
              "      fill: #1967D2;\n",
              "      height: 32px;\n",
              "      padding: 0 0 0 0;\n",
              "      width: 32px;\n",
              "    }\n",
              "\n",
              "    .colab-df-convert:hover {\n",
              "      background-color: #E2EBFA;\n",
              "      box-shadow: 0px 1px 2px rgba(60, 64, 67, 0.3), 0px 1px 3px 1px rgba(60, 64, 67, 0.15);\n",
              "      fill: #174EA6;\n",
              "    }\n",
              "\n",
              "    .colab-df-buttons div {\n",
              "      margin-bottom: 4px;\n",
              "    }\n",
              "\n",
              "    [theme=dark] .colab-df-convert {\n",
              "      background-color: #3B4455;\n",
              "      fill: #D2E3FC;\n",
              "    }\n",
              "\n",
              "    [theme=dark] .colab-df-convert:hover {\n",
              "      background-color: #434B5C;\n",
              "      box-shadow: 0px 1px 3px 1px rgba(0, 0, 0, 0.15);\n",
              "      filter: drop-shadow(0px 1px 2px rgba(0, 0, 0, 0.3));\n",
              "      fill: #FFFFFF;\n",
              "    }\n",
              "  </style>\n",
              "\n",
              "    <script>\n",
              "      const buttonEl =\n",
              "        document.querySelector('#df-bc742c31-1832-46f8-a3ba-021d2fe29bd8 button.colab-df-convert');\n",
              "      buttonEl.style.display =\n",
              "        google.colab.kernel.accessAllowed ? 'block' : 'none';\n",
              "\n",
              "      async function convertToInteractive(key) {\n",
              "        const element = document.querySelector('#df-bc742c31-1832-46f8-a3ba-021d2fe29bd8');\n",
              "        const dataTable =\n",
              "          await google.colab.kernel.invokeFunction('convertToInteractive',\n",
              "                                                    [key], {});\n",
              "        if (!dataTable) return;\n",
              "\n",
              "        const docLinkHtml = 'Like what you see? Visit the ' +\n",
              "          '<a target=\"_blank\" href=https://colab.research.google.com/notebooks/data_table.ipynb>data table notebook</a>'\n",
              "          + ' to learn more about interactive tables.';\n",
              "        element.innerHTML = '';\n",
              "        dataTable['output_type'] = 'display_data';\n",
              "        await google.colab.output.renderOutput(dataTable, element);\n",
              "        const docLink = document.createElement('div');\n",
              "        docLink.innerHTML = docLinkHtml;\n",
              "        element.appendChild(docLink);\n",
              "      }\n",
              "    </script>\n",
              "  </div>\n",
              "\n",
              "\n",
              "<div id=\"df-f52a6ad8-2ed7-45ca-bf5b-2e2aed005d18\">\n",
              "  <button class=\"colab-df-quickchart\" onclick=\"quickchart('df-f52a6ad8-2ed7-45ca-bf5b-2e2aed005d18')\"\n",
              "            title=\"Suggest charts\"\n",
              "            style=\"display:none;\">\n",
              "\n",
              "<svg xmlns=\"http://www.w3.org/2000/svg\" height=\"24px\"viewBox=\"0 0 24 24\"\n",
              "     width=\"24px\">\n",
              "    <g>\n",
              "        <path d=\"M19 3H5c-1.1 0-2 .9-2 2v14c0 1.1.9 2 2 2h14c1.1 0 2-.9 2-2V5c0-1.1-.9-2-2-2zM9 17H7v-7h2v7zm4 0h-2V7h2v10zm4 0h-2v-4h2v4z\"/>\n",
              "    </g>\n",
              "</svg>\n",
              "  </button>\n",
              "\n",
              "<style>\n",
              "  .colab-df-quickchart {\n",
              "      --bg-color: #E8F0FE;\n",
              "      --fill-color: #1967D2;\n",
              "      --hover-bg-color: #E2EBFA;\n",
              "      --hover-fill-color: #174EA6;\n",
              "      --disabled-fill-color: #AAA;\n",
              "      --disabled-bg-color: #DDD;\n",
              "  }\n",
              "\n",
              "  [theme=dark] .colab-df-quickchart {\n",
              "      --bg-color: #3B4455;\n",
              "      --fill-color: #D2E3FC;\n",
              "      --hover-bg-color: #434B5C;\n",
              "      --hover-fill-color: #FFFFFF;\n",
              "      --disabled-bg-color: #3B4455;\n",
              "      --disabled-fill-color: #666;\n",
              "  }\n",
              "\n",
              "  .colab-df-quickchart {\n",
              "    background-color: var(--bg-color);\n",
              "    border: none;\n",
              "    border-radius: 50%;\n",
              "    cursor: pointer;\n",
              "    display: none;\n",
              "    fill: var(--fill-color);\n",
              "    height: 32px;\n",
              "    padding: 0;\n",
              "    width: 32px;\n",
              "  }\n",
              "\n",
              "  .colab-df-quickchart:hover {\n",
              "    background-color: var(--hover-bg-color);\n",
              "    box-shadow: 0 1px 2px rgba(60, 64, 67, 0.3), 0 1px 3px 1px rgba(60, 64, 67, 0.15);\n",
              "    fill: var(--button-hover-fill-color);\n",
              "  }\n",
              "\n",
              "  .colab-df-quickchart-complete:disabled,\n",
              "  .colab-df-quickchart-complete:disabled:hover {\n",
              "    background-color: var(--disabled-bg-color);\n",
              "    fill: var(--disabled-fill-color);\n",
              "    box-shadow: none;\n",
              "  }\n",
              "\n",
              "  .colab-df-spinner {\n",
              "    border: 2px solid var(--fill-color);\n",
              "    border-color: transparent;\n",
              "    border-bottom-color: var(--fill-color);\n",
              "    animation:\n",
              "      spin 1s steps(1) infinite;\n",
              "  }\n",
              "\n",
              "  @keyframes spin {\n",
              "    0% {\n",
              "      border-color: transparent;\n",
              "      border-bottom-color: var(--fill-color);\n",
              "      border-left-color: var(--fill-color);\n",
              "    }\n",
              "    20% {\n",
              "      border-color: transparent;\n",
              "      border-left-color: var(--fill-color);\n",
              "      border-top-color: var(--fill-color);\n",
              "    }\n",
              "    30% {\n",
              "      border-color: transparent;\n",
              "      border-left-color: var(--fill-color);\n",
              "      border-top-color: var(--fill-color);\n",
              "      border-right-color: var(--fill-color);\n",
              "    }\n",
              "    40% {\n",
              "      border-color: transparent;\n",
              "      border-right-color: var(--fill-color);\n",
              "      border-top-color: var(--fill-color);\n",
              "    }\n",
              "    60% {\n",
              "      border-color: transparent;\n",
              "      border-right-color: var(--fill-color);\n",
              "    }\n",
              "    80% {\n",
              "      border-color: transparent;\n",
              "      border-right-color: var(--fill-color);\n",
              "      border-bottom-color: var(--fill-color);\n",
              "    }\n",
              "    90% {\n",
              "      border-color: transparent;\n",
              "      border-bottom-color: var(--fill-color);\n",
              "    }\n",
              "  }\n",
              "</style>\n",
              "\n",
              "  <script>\n",
              "    async function quickchart(key) {\n",
              "      const quickchartButtonEl =\n",
              "        document.querySelector('#' + key + ' button');\n",
              "      quickchartButtonEl.disabled = true;  // To prevent multiple clicks.\n",
              "      quickchartButtonEl.classList.add('colab-df-spinner');\n",
              "      try {\n",
              "        const charts = await google.colab.kernel.invokeFunction(\n",
              "            'suggestCharts', [key], {});\n",
              "      } catch (error) {\n",
              "        console.error('Error during call to suggestCharts:', error);\n",
              "      }\n",
              "      quickchartButtonEl.classList.remove('colab-df-spinner');\n",
              "      quickchartButtonEl.classList.add('colab-df-quickchart-complete');\n",
              "    }\n",
              "    (() => {\n",
              "      let quickchartButtonEl =\n",
              "        document.querySelector('#df-f52a6ad8-2ed7-45ca-bf5b-2e2aed005d18 button');\n",
              "      quickchartButtonEl.style.display =\n",
              "        google.colab.kernel.accessAllowed ? 'block' : 'none';\n",
              "    })();\n",
              "  </script>\n",
              "</div>\n",
              "    </div>\n",
              "  </div>\n"
            ],
            "text/plain": [
              "   ID                     Nama Pekerjaan Bidang Pekerjaan  \\\n",
              "0   1      Petugas Kebersihan Kamar (DW)        Pelayanan   \n",
              "1   2      Petugas Kebersihan Kamar (DW)        Pelayanan   \n",
              "2   3      Petugas Kebersihan Kamar (DW)        Pelayanan   \n",
              "3   4  Asisten Baking dan Formulasi (DW)        Pelayanan   \n",
              "4   5  Asisten Baking dan Formulasi (DW)        Pelayanan   \n",
              "\n",
              "                                      Deskripsi Diri  \n",
              "0  Melaksanakan dengan teliti dan penuh tanggung ...  \n",
              "1  Menjaga standar kebersihan yang tinggi dan mem...  \n",
              "2  Melakukan tugas-tugas rutin pembersihan dengan...  \n",
              "3  Mendukung proses pembuatan produk roti dan kue...  \n",
              "4  Berperan dalam mengembangkan resep-resep baru ...  "
            ]
          },
          "execution_count": 9,
          "metadata": {},
          "output_type": "execute_result"
        }
      ],
      "source": [
        "# Load data from CSV\n",
        "df = pd.read_csv('/content/Dataset Japri Final  - Data Pekerjaan.csv')\n",
        "\n",
        "# Extract 'Deskripsi Diri' and 'Nama Pekerjaan' from the dataframe\n",
        "deskripsi_diri = df['Deskripsi Diri'].values.astype('str')\n",
        "bidang_pekerjaan = df['Nama Pekerjaan'].values.astype('str')\n",
        "\n",
        "df.head()"
      ]
    },
    {
      "cell_type": "markdown",
      "metadata": {
        "id": "MpZ11fq46Yjm"
      },
      "source": [
        "# Labeling & Split Data"
      ]
    },
    {
      "cell_type": "code",
      "execution_count": null,
      "metadata": {
        "colab": {
          "base_uri": "https://localhost:8080/"
        },
        "id": "jf7tpvK3zZNH",
        "outputId": "0820ffe0-2d75-45d9-9a77-d2648f7d0896"
      },
      "outputs": [
        {
          "name": "stderr",
          "output_type": "stream",
          "text": [
            "Asking to truncate to max_length but no maximum length is provided and the model has no predefined maximum length. Default to no truncation.\n"
          ]
        }
      ],
      "source": [
        "# Inisialisasi Tokenizer BERT\n",
        "tokenizer = BertTokenizer.from_pretrained('cahya/bert-base-indonesian-522M')\n",
        "\n",
        "# Tokenisasi deskripsi pekerjaan\n",
        "tokenized_deskripsi = tokenizer(deskripsi_diri.tolist(), padding=True, truncation=True, return_tensors=\"tf\")\n",
        "\n",
        "# Konversi nama pekerjaan menjadi label numerik\n",
        "label_encoder = LabelEncoder()\n",
        "encoded_labels = label_encoder.fit_transform(bidang_pekerjaan)\n",
        "\n",
        "# Split data menjadi training dan testing menggunakan train_test_split\n",
        "train_inputs, test_inputs, train_labels, test_labels = train_test_split(\n",
        "    tokenized_deskripsi.input_ids.numpy(),\n",
        "    encoded_labels,\n",
        "    test_size=0.2,  # Ubah sesuai kebutuhan\n",
        "    random_state=42\n",
        ")"
      ]
    },
    {
      "cell_type": "markdown",
      "metadata": {
        "id": "wb5SlFag6boE"
      },
      "source": [
        "# Membuat Arsitektur & Pelatihan Model"
      ]
    },
    {
      "cell_type": "code",
      "execution_count": null,
      "metadata": {
        "colab": {
          "base_uri": "https://localhost:8080/"
        },
        "id": "eNegn-XpQWfm",
        "outputId": "c56e3a05-03f1-4514-a8b7-ac624c98c6a6"
      },
      "outputs": [
        {
          "name": "stderr",
          "output_type": "stream",
          "text": [
            "Some layers from the model checkpoint at cahya/bert-base-indonesian-522M were not used when initializing TFBertModel: ['mlm___cls']\n",
            "- This IS expected if you are initializing TFBertModel from the checkpoint of a model trained on another task or with another architecture (e.g. initializing a BertForSequenceClassification model from a BertForPreTraining model).\n",
            "- This IS NOT expected if you are initializing TFBertModel from the checkpoint of a model that you expect to be exactly identical (initializing a BertForSequenceClassification model from a BertForSequenceClassification model).\n",
            "All the layers of TFBertModel were initialized from the model checkpoint at cahya/bert-base-indonesian-522M.\n",
            "If your task is similar to the task the model of the checkpoint was trained on, you can already use TFBertModel for predictions without further training.\n"
          ]
        },
        {
          "name": "stdout",
          "output_type": "stream",
          "text": [
            "Epoch 1/35\n"
          ]
        },
        {
          "name": "stderr",
          "output_type": "stream",
          "text": [
            "WARNING:tensorflow:Gradients do not exist for variables ['tf_bert_model_1/bert/pooler/dense/kernel:0', 'tf_bert_model_1/bert/pooler/dense/bias:0'] when minimizing the loss. If you're using `model.compile()`, did you forget to provide a `loss` argument?\n",
            "WARNING:tensorflow:Gradients do not exist for variables ['tf_bert_model_1/bert/pooler/dense/kernel:0', 'tf_bert_model_1/bert/pooler/dense/bias:0'] when minimizing the loss. If you're using `model.compile()`, did you forget to provide a `loss` argument?\n",
            "WARNING:tensorflow:Gradients do not exist for variables ['tf_bert_model_1/bert/pooler/dense/kernel:0', 'tf_bert_model_1/bert/pooler/dense/bias:0'] when minimizing the loss. If you're using `model.compile()`, did you forget to provide a `loss` argument?\n",
            "WARNING:tensorflow:Gradients do not exist for variables ['tf_bert_model_1/bert/pooler/dense/kernel:0', 'tf_bert_model_1/bert/pooler/dense/bias:0'] when minimizing the loss. If you're using `model.compile()`, did you forget to provide a `loss` argument?\n"
          ]
        },
        {
          "name": "stdout",
          "output_type": "stream",
          "text": [
            "97/97 [==============================] - 79s 244ms/step - loss: 5.4598 - accuracy: 0.0065 - val_loss: 5.3309 - val_accuracy: 0.0000e+00\n",
            "Epoch 2/35\n",
            "97/97 [==============================] - 19s 199ms/step - loss: 5.3649 - accuracy: 0.0084 - val_loss: 5.3397 - val_accuracy: 0.0058\n",
            "Epoch 3/35\n",
            "97/97 [==============================] - 19s 194ms/step - loss: 5.3019 - accuracy: 0.0155 - val_loss: 5.1883 - val_accuracy: 0.0405\n",
            "Epoch 4/35\n",
            "97/97 [==============================] - 19s 201ms/step - loss: 5.0986 - accuracy: 0.0355 - val_loss: 4.8226 - val_accuracy: 0.0809\n",
            "Epoch 5/35\n",
            "97/97 [==============================] - 19s 198ms/step - loss: 4.6698 - accuracy: 0.1039 - val_loss: 4.1865 - val_accuracy: 0.2312\n",
            "Epoch 6/35\n",
            "97/97 [==============================] - 19s 197ms/step - loss: 4.0963 - accuracy: 0.2071 - val_loss: 3.5013 - val_accuracy: 0.3642\n",
            "Epoch 7/35\n",
            "97/97 [==============================] - 19s 197ms/step - loss: 3.4140 - accuracy: 0.3574 - val_loss: 2.9082 - val_accuracy: 0.5318\n",
            "Epoch 8/35\n",
            "97/97 [==============================] - 19s 198ms/step - loss: 2.8469 - accuracy: 0.4961 - val_loss: 2.3502 - val_accuracy: 0.6532\n",
            "Epoch 9/35\n",
            "97/97 [==============================] - 18s 189ms/step - loss: 2.3635 - accuracy: 0.5987 - val_loss: 1.9412 - val_accuracy: 0.7110\n",
            "Epoch 10/35\n",
            "97/97 [==============================] - 19s 191ms/step - loss: 1.8974 - accuracy: 0.6929 - val_loss: 1.5346 - val_accuracy: 0.7919\n",
            "Epoch 11/35\n",
            "97/97 [==============================] - 19s 199ms/step - loss: 1.5484 - accuracy: 0.7794 - val_loss: 1.2829 - val_accuracy: 0.8092\n",
            "Epoch 12/35\n",
            "97/97 [==============================] - 18s 190ms/step - loss: 1.2773 - accuracy: 0.8323 - val_loss: 1.0398 - val_accuracy: 0.8497\n",
            "Epoch 13/35\n",
            "97/97 [==============================] - 19s 191ms/step - loss: 1.0068 - accuracy: 0.8865 - val_loss: 0.9117 - val_accuracy: 0.8613\n",
            "Epoch 14/35\n",
            "97/97 [==============================] - 19s 196ms/step - loss: 0.8119 - accuracy: 0.9129 - val_loss: 0.7759 - val_accuracy: 0.8728\n",
            "Epoch 15/35\n",
            "97/97 [==============================] - 19s 192ms/step - loss: 0.6613 - accuracy: 0.9439 - val_loss: 0.6712 - val_accuracy: 0.8786\n",
            "Epoch 16/35\n",
            "97/97 [==============================] - 18s 190ms/step - loss: 0.5475 - accuracy: 0.9568 - val_loss: 0.6048 - val_accuracy: 0.8960\n",
            "Epoch 17/35\n",
            "97/97 [==============================] - 19s 191ms/step - loss: 0.4511 - accuracy: 0.9671 - val_loss: 0.5648 - val_accuracy: 0.8960\n",
            "Epoch 18/35\n",
            "97/97 [==============================] - 18s 191ms/step - loss: 0.3841 - accuracy: 0.9806 - val_loss: 0.5090 - val_accuracy: 0.9017\n",
            "Epoch 19/35\n",
            "97/97 [==============================] - 19s 198ms/step - loss: 0.3198 - accuracy: 0.9839 - val_loss: 0.4700 - val_accuracy: 0.9075\n",
            "Epoch 20/35\n",
            "97/97 [==============================] - 19s 192ms/step - loss: 0.2638 - accuracy: 0.9884 - val_loss: 0.4588 - val_accuracy: 0.9075\n",
            "Epoch 21/35\n",
            "97/97 [==============================] - 19s 197ms/step - loss: 0.2272 - accuracy: 0.9910 - val_loss: 0.4419 - val_accuracy: 0.9133\n",
            "Epoch 22/35\n",
            "97/97 [==============================] - 18s 190ms/step - loss: 0.1909 - accuracy: 0.9935 - val_loss: 0.4155 - val_accuracy: 0.9133\n",
            "Epoch 23/35\n",
            "97/97 [==============================] - 19s 197ms/step - loss: 0.1746 - accuracy: 0.9961 - val_loss: 0.3982 - val_accuracy: 0.9191\n",
            "Epoch 24/35\n",
            "97/97 [==============================] - 18s 189ms/step - loss: 0.1437 - accuracy: 0.9968 - val_loss: 0.3965 - val_accuracy: 0.9191\n",
            "Epoch 25/35\n",
            "97/97 [==============================] - 19s 198ms/step - loss: 0.1384 - accuracy: 0.9948 - val_loss: 0.3719 - val_accuracy: 0.9249\n",
            "Epoch 26/35\n",
            "97/97 [==============================] - 18s 189ms/step - loss: 0.1153 - accuracy: 0.9987 - val_loss: 0.3748 - val_accuracy: 0.9249\n",
            "Epoch 27/35\n",
            "97/97 [==============================] - 19s 192ms/step - loss: 0.1029 - accuracy: 0.9981 - val_loss: 0.3708 - val_accuracy: 0.9249\n",
            "Epoch 28/35\n",
            "97/97 [==============================] - 19s 191ms/step - loss: 0.0905 - accuracy: 0.9968 - val_loss: 0.3489 - val_accuracy: 0.9364\n",
            "Epoch 29/35\n",
            "97/97 [==============================] - 19s 196ms/step - loss: 0.0834 - accuracy: 0.9981 - val_loss: 0.3553 - val_accuracy: 0.9364\n",
            "Epoch 30/35\n",
            "97/97 [==============================] - 18s 191ms/step - loss: 0.0721 - accuracy: 0.9987 - val_loss: 0.3626 - val_accuracy: 0.9364\n",
            "Epoch 31/35\n",
            "97/97 [==============================] - 18s 190ms/step - loss: 0.0725 - accuracy: 0.9987 - val_loss: 0.3418 - val_accuracy: 0.9364\n",
            "Epoch 32/35\n",
            "97/97 [==============================] - 19s 192ms/step - loss: 0.0665 - accuracy: 0.9987 - val_loss: 0.3335 - val_accuracy: 0.9422\n",
            "Epoch 33/35\n",
            "97/97 [==============================] - 18s 190ms/step - loss: 0.0549 - accuracy: 1.0000 - val_loss: 0.3476 - val_accuracy: 0.9364\n",
            "Epoch 34/35\n",
            "97/97 [==============================] - 19s 192ms/step - loss: 0.0520 - accuracy: 0.9987 - val_loss: 0.3395 - val_accuracy: 0.9364\n",
            "Epoch 35/35\n",
            "97/97 [==============================] - 18s 190ms/step - loss: 0.0509 - accuracy: 0.9981 - val_loss: 0.3300 - val_accuracy: 0.9422\n"
          ]
        }
      ],
      "source": [
        "# Membuat model BERT untuk mengubah deskripsi pekerjaan menjadi vektor\n",
        "bert_model = TFBertModel.from_pretrained('cahya/bert-base-indonesian-522M')\n",
        "input_ids = tf.keras.Input(shape=(None,), dtype='int32')\n",
        "bert_output = bert_model(input_ids)[0]\n",
        "\n",
        "# Fine tuning\n",
        "for layer in bert_model.layers[:-6]:\n",
        "    layer.trainable = False\n",
        "\n",
        "# Menambahkan lapisan Dense untuk klasifikasi nama pekerjaan\n",
        "x = Dropout(0.3)(bert_output[:, 0, :])\n",
        "x = Dense(256, activation='relu')(x)\n",
        "x = Dropout(0.2)(x)\n",
        "x = Dense(128, activation='relu')(x)\n",
        "output = Dense(units=len(np.unique(encoded_labels)), activation='softmax')(x)\n",
        "\n",
        "# Membuat model\n",
        "model = Model(inputs=input_ids, outputs=output)\n",
        "\n",
        "# Kompilasi model untuk pelatihan\n",
        "model.compile(optimizer=tf.keras.optimizers.Adam(1e-5),\n",
        "              loss='sparse_categorical_crossentropy',\n",
        "              metrics=['accuracy'])\n",
        "\n",
        "# Melatih model dengan validasi\n",
        "history = model.fit(train_inputs, train_labels, epochs=35, batch_size=16, validation_split=0.1)"
      ]
    },
    {
      "cell_type": "markdown",
      "metadata": {
        "id": "uLAe5pEEz8nv"
      },
      "source": [
        "# Membuat Diagram Akurasi dan Loss"
      ]
    },
    {
      "cell_type": "code",
      "execution_count": null,
      "metadata": {
        "colab": {
          "base_uri": "https://localhost:8080/",
          "height": 458
        },
        "id": "UCXhftkiz6SV",
        "outputId": "fb7d3a29-0717-4452-f579-30848caacbd7"
      },
      "outputs": [
        {
          "data": {
            "image/png": "[encoded data removed]",
            "text/plain": [
              "<Figure size 1000x500 with 2 Axes>"
            ]
          },
          "metadata": {},
          "output_type": "display_data"
        }
      ],
      "source": [
        "# Ambil nilai akurasi dan loss dari setiap epoch\n",
        "acc = history.history['accuracy']\n",
        "val_acc = history.history['val_accuracy']\n",
        "loss = history.history['loss']\n",
        "val_loss = history.history['val_loss']\n",
        "epochs = range(1, len(acc) + 1)\n",
        "\n",
        "# Plotting akurasi\n",
        "plt.figure(figsize=(10, 5))\n",
        "plt.subplot(1, 2, 1)\n",
        "plt.plot(epochs, acc, 'r', label='Training accuracy')\n",
        "plt.plot(epochs, val_acc, 'b', label='Validation accuracy')\n",
        "plt.title('Training and Validation Accuracy')\n",
        "plt.xlabel('Epochs')\n",
        "plt.ylabel('Accuracy')\n",
        "plt.legend()\n",
        "\n",
        "# Plotting loss\n",
        "plt.subplot(1, 2, 2)\n",
        "plt.plot(epochs, loss, 'r', label='Training loss')\n",
        "plt.plot(epochs, val_loss, 'b', label='Validation loss')\n",
        "plt.title('Training and Validation Loss')\n",
        "plt.xlabel('Epochs')\n",
        "plt.ylabel('Loss')\n",
        "plt.legend()\n",
        "\n",
        "plt.tight_layout()\n",
        "plt.show()"
      ]
    },
    {
      "cell_type": "markdown",
      "metadata": {
        "id": "FOJKYKvN6B1d"
      },
      "source": [
        "# Melakukan Pencarian kerja"
      ]
    },
    {
      "cell_type": "code",
      "execution_count": null,
      "metadata": {
        "colab": {
          "background_save": true
        },
        "id": "h_eiEnAcNfgX",
        "outputId": "e335972c-2bb9-4f9a-b3fc-a71e8e42a8da"
      },
      "outputs": [
        {
          "ename": "KeyboardInterrupt",
          "evalue": "ignored",
          "output_type": "error",
          "traceback": [
            "\u001b[0;31m---------------------------------------------------------------------------\u001b[0m",
            "\u001b[0;31mKeyboardInterrupt\u001b[0m                         Traceback (most recent call last)",
            "\u001b[0;32m<ipython-input-13-320941c59d47>\u001b[0m in \u001b[0;36m<cell line: 29>\u001b[0;34m()\u001b[0m\n\u001b[1;32m     27\u001b[0m \u001b[0;34m\u001b[0m\u001b[0m\n\u001b[1;32m     28\u001b[0m \u001b[0;31m# Meminta input dari pengguna\u001b[0m\u001b[0;34m\u001b[0m\u001b[0;34m\u001b[0m\u001b[0m\n\u001b[0;32m---> 29\u001b[0;31m \u001b[0mdeskripsi_input_pengguna\u001b[0m \u001b[0;34m=\u001b[0m \u001b[0minput\u001b[0m\u001b[0;34m(\u001b[0m\u001b[0;34m\"Gambarkan kondisi pekerjaan yang diinginkan: \"\u001b[0m\u001b[0;34m)\u001b[0m\u001b[0;34m\u001b[0m\u001b[0;34m\u001b[0m\u001b[0m\n\u001b[0m\u001b[1;32m     30\u001b[0m \u001b[0;34m\u001b[0m\u001b[0m\n\u001b[1;32m     31\u001b[0m \u001b[0;31m# Menggunakan fungsi prediksi untuk memperoleh rekomendasi pekerjaan\u001b[0m\u001b[0;34m\u001b[0m\u001b[0;34m\u001b[0m\u001b[0m\n",
            "\u001b[0;32m/usr/local/lib/python3.10/dist-packages/ipykernel/kernelbase.py\u001b[0m in \u001b[0;36mraw_input\u001b[0;34m(self, prompt)\u001b[0m\n\u001b[1;32m    849\u001b[0m                 \u001b[0;34m\"raw_input was called, but this frontend does not support input requests.\"\u001b[0m\u001b[0;34m\u001b[0m\u001b[0;34m\u001b[0m\u001b[0m\n\u001b[1;32m    850\u001b[0m             )\n\u001b[0;32m--> 851\u001b[0;31m         return self._input_request(str(prompt),\n\u001b[0m\u001b[1;32m    852\u001b[0m             \u001b[0mself\u001b[0m\u001b[0;34m.\u001b[0m\u001b[0m_parent_ident\u001b[0m\u001b[0;34m,\u001b[0m\u001b[0;34m\u001b[0m\u001b[0;34m\u001b[0m\u001b[0m\n\u001b[1;32m    853\u001b[0m             \u001b[0mself\u001b[0m\u001b[0;34m.\u001b[0m\u001b[0m_parent_header\u001b[0m\u001b[0;34m,\u001b[0m\u001b[0;34m\u001b[0m\u001b[0;34m\u001b[0m\u001b[0m\n",
            "\u001b[0;32m/usr/local/lib/python3.10/dist-packages/ipykernel/kernelbase.py\u001b[0m in \u001b[0;36m_input_request\u001b[0;34m(self, prompt, ident, parent, password)\u001b[0m\n\u001b[1;32m    893\u001b[0m             \u001b[0;32mexcept\u001b[0m \u001b[0mKeyboardInterrupt\u001b[0m\u001b[0;34m:\u001b[0m\u001b[0;34m\u001b[0m\u001b[0;34m\u001b[0m\u001b[0m\n\u001b[1;32m    894\u001b[0m                 \u001b[0;31m# re-raise KeyboardInterrupt, to truncate traceback\u001b[0m\u001b[0;34m\u001b[0m\u001b[0;34m\u001b[0m\u001b[0m\n\u001b[0;32m--> 895\u001b[0;31m                 \u001b[0;32mraise\u001b[0m \u001b[0mKeyboardInterrupt\u001b[0m\u001b[0;34m(\u001b[0m\u001b[0;34m\"Interrupted by user\"\u001b[0m\u001b[0;34m)\u001b[0m \u001b[0;32mfrom\u001b[0m \u001b[0;32mNone\u001b[0m\u001b[0;34m\u001b[0m\u001b[0;34m\u001b[0m\u001b[0m\n\u001b[0m\u001b[1;32m    896\u001b[0m             \u001b[0;32mexcept\u001b[0m \u001b[0mException\u001b[0m \u001b[0;32mas\u001b[0m \u001b[0me\u001b[0m\u001b[0;34m:\u001b[0m\u001b[0;34m\u001b[0m\u001b[0;34m\u001b[0m\u001b[0m\n\u001b[1;32m    897\u001b[0m                 \u001b[0mself\u001b[0m\u001b[0;34m.\u001b[0m\u001b[0mlog\u001b[0m\u001b[0;34m.\u001b[0m\u001b[0mwarning\u001b[0m\u001b[0;34m(\u001b[0m\u001b[0;34m\"Invalid Message:\"\u001b[0m\u001b[0;34m,\u001b[0m \u001b[0mexc_info\u001b[0m\u001b[0;34m=\u001b[0m\u001b[0;32mTrue\u001b[0m\u001b[0;34m)\u001b[0m\u001b[0;34m\u001b[0m\u001b[0;34m\u001b[0m\u001b[0m\n",
            "\u001b[0;31mKeyboardInterrupt\u001b[0m: Interrupted by user"
          ]
        }
      ],
      "source": [
        "# Definisikan threshold di luar fungsi\n",
        "threshold_value = 0.15  # Nilai threshold yang diinginkan\n",
        "\n",
        "def predict_job_description(description, threshold=threshold_value):\n",
        "    # Tokenisasi deskripsi pekerjaan baru dari input pengguna (asumsi: tokenizer, model, dan label_encoder telah didefinisikan sebelumnya)\n",
        "    tokenized_new_description = tokenizer(description.lower(), padding=True, truncation=True, return_tensors=\"tf\")\n",
        "\n",
        "    # Lakukan prediksi menggunakan model yang sudah dilatih\n",
        "    predictions = model.predict(tokenized_new_description.input_ids.numpy())\n",
        "\n",
        "    # Ambil indeks dengan nilai probabilitas tertinggi untuk setiap kelas\n",
        "    top_indices = np.argsort(predictions, axis=1)[0][::-1]\n",
        "    top_probabilities = np.sort(predictions, axis=1)[0][::-1]\n",
        "\n",
        "    # Inisialisasi similarity scores\n",
        "    similarity_scores = []\n",
        "\n",
        "    # Konversi kembali indeks menjadi nama pekerjaan jika probabilitas melebihi threshold\n",
        "    for i, idx in enumerate(top_indices):\n",
        "        if top_probabilities[i] >= threshold:\n",
        "            job_name = label_encoder.inverse_transform([idx])[0]\n",
        "            similarity_scores.append((job_name, top_probabilities[i]))  # Simpan pasangan (job, similarity_score)\n",
        "        else:\n",
        "            break  # Berhenti jika probabilitas tidak memenuhi threshold\n",
        "\n",
        "    return similarity_scores\n",
        "\n",
        "# Meminta input dari pengguna\n",
        "deskripsi_input_pengguna = input(\"Gambarkan kondisi pekerjaan yang diinginkan: \")\n",
        "\n",
        "# Menggunakan fungsi prediksi untuk memperoleh rekomendasi pekerjaan\n",
        "predicted_jobs_above_threshold = predict_job_description(deskripsi_input_pengguna.lower())\n",
        "\n",
        "# Menampilkan hasil prediksi\n",
        "if predicted_jobs_above_threshold:\n",
        "    print(\"Pekerjaan yang direkomendasikan untuk kondisi yang diberikan:\")\n",
        "    for job, similarity_score in predicted_jobs_above_threshold:\n",
        "        print(f\"{job} - Similarity Score: {similarity_score}\")\n",
        "else:\n",
        "    print(\"Tidak ada pekerjaan yang memenuhi.\")"
      ]
    },
    {
      "cell_type": "markdown",
      "metadata": {
        "id": "VRQJkeiV57Hv"
      },
      "source": [
        "# Simpan dan Load Model"
      ]
    },
    {
      "cell_type": "code",
      "execution_count": null,
      "metadata": {
        "colab": {
          "base_uri": "https://localhost:8080/"
        },
        "id": "Pp7AIdUBgQpk",
        "outputId": "d51eb361-ad55-4398-f032-c28d972da599"
      },
      "outputs": [
        {
          "name": "stderr",
          "output_type": "stream",
          "text": [
            "/usr/local/lib/python3.10/dist-packages/keras/src/engine/training.py:3103: UserWarning: You are saving your model as an HDF5 file via `model.save()`. This file format is considered legacy. We recommend using instead the native Keras format, e.g. `model.save('my_model.keras')`.\n",
            "  saving_api.save_model(\n"
          ]
        }
      ],
      "source": [
        "\n",
        "# Menyimpan model\n",
        "# Simpan model dalam format TensorFlow\n",
        "model.save('model.h5')\n",
        "\n",
        "# Load Model\n",
        "# Definisikan kelas TFBertModel sebagai custom_objects saat memuat model\n",
        "custom_objects = {'TFBertModel': TFBertModel}\n",
        "\n",
        "loaded_model = load_model('model.h5', custom_objects=custom_objects)  # Assuming 'model.h5' is in the correct path"
      ]
    },
    {
      "cell_type": "markdown",
      "metadata": {
        "id": "XD9h4HiphbzF"
      },
      "source": [
        "# Coba Deploy Model dengan Flask"
      ]
    },
    {
      "cell_type": "code",
      "execution_count": null,
      "metadata": {
        "colab": {
          "base_uri": "https://localhost:8080/"
        },
        "id": "cXLum3Rwhkhu",
        "outputId": "ee244458-5dc6-4438-c557-8173556b105c"
      },
      "outputs": [
        {
          "name": "stdout",
          "output_type": "stream",
          "text": [
            "Collecting flask-ngrok\n",
            "  Downloading flask_ngrok-0.0.25-py3-none-any.whl (3.1 kB)\n",
            "Requirement already satisfied: Flask>=0.8 in /usr/local/lib/python3.10/dist-packages (from flask-ngrok) (2.2.5)\n",
            "Requirement already satisfied: requests in /usr/local/lib/python3.10/dist-packages (from flask-ngrok) (2.31.0)\n",
            "Requirement already satisfied: Werkzeug>=2.2.2 in /usr/local/lib/python3.10/dist-packages (from Flask>=0.8->flask-ngrok) (3.0.1)\n",
            "Requirement already satisfied: Jinja2>=3.0 in /usr/local/lib/python3.10/dist-packages (from Flask>=0.8->flask-ngrok) (3.1.2)\n",
            "Requirement already satisfied: itsdangerous>=2.0 in /usr/local/lib/python3.10/dist-packages (from Flask>=0.8->flask-ngrok) (2.1.2)\n",
            "Requirement already satisfied: click>=8.0 in /usr/local/lib/python3.10/dist-packages (from Flask>=0.8->flask-ngrok) (8.1.7)\n",
            "Requirement already satisfied: charset-normalizer<4,>=2 in /usr/local/lib/python3.10/dist-packages (from requests->flask-ngrok) (3.3.2)\n",
            "Requirement already satisfied: idna<4,>=2.5 in /usr/local/lib/python3.10/dist-packages (from requests->flask-ngrok) (3.6)\n",
            "Requirement already satisfied: urllib3<3,>=1.21.1 in /usr/local/lib/python3.10/dist-packages (from requests->flask-ngrok) (2.0.7)\n",
            "Requirement already satisfied: certifi>=2017.4.17 in /usr/local/lib/python3.10/dist-packages (from requests->flask-ngrok) (2023.11.17)\n",
            "Requirement already satisfied: MarkupSafe>=2.0 in /usr/local/lib/python3.10/dist-packages (from Jinja2>=3.0->Flask>=0.8->flask-ngrok) (2.1.3)\n",
            "Installing collected packages: flask-ngrok\n",
            "Successfully installed flask-ngrok-0.0.25\n"
          ]
        }
      ],
      "source": [
        "!pip install flask-ngrok\n"
      ]
    },
    {
      "cell_type": "code",
      "execution_count": null,
      "metadata": {
        "colab": {
          "base_uri": "https://localhost:8080/"
        },
        "id": "ySwDci_hryrM",
        "outputId": "5fbfad3d-e13b-4f60-89f2-af5d03b6e79f"
      },
      "outputs": [
        {
          "name": "stdout",
          "output_type": "stream",
          "text": [
            "Collecting pyngrok\n",
            "  Downloading pyngrok-7.0.3-py3-none-any.whl (21 kB)\n",
            "Requirement already satisfied: PyYAML in /usr/local/lib/python3.10/dist-packages (from pyngrok) (6.0.1)\n",
            "Installing collected packages: pyngrok\n",
            "Successfully installed pyngrok-7.0.3\n"
          ]
        }
      ],
      "source": [
        "!pip install pyngrok\n"
      ]
    },
    {
      "cell_type": "code",
      "execution_count": null,
      "metadata": {
        "colab": {
          "base_uri": "https://localhost:8080/"
        },
        "id": "rS2voGAOhlw7",
        "outputId": "03327e94-381c-499d-bfb5-319c8919eff1"
      },
      "outputs": [
        {
          "name": "stdout",
          "output_type": "stream",
          "text": [
            "Authtoken saved to configuration file: /root/.config/ngrok/ngrok.yml\n"
          ]
        }
      ],
      "source": [
        "!ngrok authtoken '2ZXLVijm6dbtVurWdFZgN8mI63X_4anDjpbMs9P7cq33Kps4g'"
      ]
    },
    {
      "cell_type": "markdown",
      "metadata": {
        "id": "Ji3RAv2X6zzv"
      },
      "source": [
        "### - Model ML bisa mendeteksi Satu Pekerjaan"
      ]
    },
    {
      "cell_type": "code",
      "execution_count": null,
      "metadata": {
        "colab": {
          "background_save": true,
          "base_uri": "https://localhost:8080/"
        },
        "id": "fumfOTH_hO5a",
        "outputId": "acc1777e-f612-4200-9903-f6cdc2153c95"
      },
      "outputs": [
        {
          "name": "stdout",
          "output_type": "stream",
          "text": [
            " * Running on NgrokTunnel: \"https://bf0b-35-226-55-127.ngrok-free.app\" -> \"http://localhost:5000\"\n",
            " * Serving Flask app '__main__'\n",
            " * Debug mode: off\n"
          ]
        },
        {
          "name": "stderr",
          "output_type": "stream",
          "text": [
            "INFO:werkzeug:\u001b[31m\u001b[1mWARNING: This is a development server. Do not use it in a production deployment. Use a production WSGI server instead.\u001b[0m\n",
            " * Running on http://127.0.0.1:5000\n",
            "INFO:werkzeug:\u001b[33mPress CTRL+C to quit\u001b[0m\n",
            "INFO:werkzeug:127.0.0.1 - - [16/Dec/2023 04:27:45] \"GET / HTTP/1.1\" 200 -\n",
            "INFO:werkzeug:127.0.0.1 - - [16/Dec/2023 04:27:45] \"\u001b[33mGET /favicon.ico HTTP/1.1\u001b[0m\" 404 -\n",
            "INFO:werkzeug:127.0.0.1 - - [16/Dec/2023 04:27:50] \"GET /form HTTP/1.1\" 200 -\n"
          ]
        }
      ],
      "source": [
        "from flask import Flask, request, jsonify, render_template\n",
        "from transformers import BertTokenizer\n",
        "from sklearn.preprocessing import LabelEncoder\n",
        "from tensorflow.keras.models import load_model\n",
        "import numpy as np\n",
        "import pandas as pd\n",
        "from pyngrok import ngrok\n",
        "\n",
        "app = Flask(__name__)\n",
        "\n",
        "# Load the dataset\n",
        "df = pd.read_csv('/content/Dataset Japri Final - Data Pekerjaan.csv')\n",
        "\n",
        "# Extract 'Deskripsi Diri' and 'Nama Pekerjaan' from the dataframe\n",
        "deskripsi_diri = df['Deskripsi Diri'].values.astype('str')\n",
        "bidang_pekerjaan = df['Nama Pekerjaan'].values.astype('str')\n",
        "\n",
        "# Initialize the tokenizer and the label encoder\n",
        "tokenizer = BertTokenizer.from_pretrained('cahya/bert-base-indonesian-522M')\n",
        "label_encoder = LabelEncoder()\n",
        "\n",
        "# Fit the label encoder\n",
        "label_encoder.fit(bidang_pekerjaan)\n",
        "\n",
        "# Load the model\n",
        "# Define TFBertModel class as custom_objects when loading the model\n",
        "from transformers import TFBertModel\n",
        "\n",
        "custom_objects = {'TFBertModel': TFBertModel}\n",
        "loaded_model = load_model('model.h5', custom_objects=custom_objects)  # Assuming 'model.h5' is in the correct path\n",
        "\n",
        "@app.route('/', methods=['GET'])\n",
        "def home():\n",
        "    return \"<h1>Selamat datang di aplikasi prediksi pekerjaan!</h1>\"\n",
        "\n",
        "@app.route('/form', methods=['GET'])\n",
        "def show_form():\n",
        "    return render_template('form.html')\n",
        "\n",
        "@app.route('/predict', methods=['POST'])\n",
        "def predict():\n",
        "    data = request.form['input']\n",
        "\n",
        "    # Tokenize the input\n",
        "    tokenized_input = tokenizer(data, padding=True, truncation=True, return_tensors=\"tf\")\n",
        "\n",
        "    # Run the model\n",
        "    prediction = loaded_model.predict(tokenized_input.input_ids.numpy())\n",
        "\n",
        "    # Postprocess the prediction\n",
        "    predicted_label = np.argmax(prediction, axis=-1)\n",
        "    predicted_job = label_encoder.inverse_transform(predicted_label)\n",
        "\n",
        "    return render_template('result.html', prediction=predicted_job[0])\n",
        "\n",
        "if __name__ == '__main__':\n",
        "    public_url = ngrok.connect(5000)\n",
        "    print(f\" * Running on {public_url}\")\n",
        "    app.run()"
      ]
    },
    {
      "cell_type": "markdown",
      "metadata": {
        "id": "heROtS0S66AG"
      },
      "source": [
        "### - Model ML bisa mendeteksi Lebih dari Satu Pekerjaan"
      ]
    },
    {
      "cell_type": "code",
      "execution_count": null,
      "metadata": {
        "id": "HuMn0ty75LDr"
      },
      "outputs": [],
      "source": [
        "from flask import Flask, request, render_template\n",
        "from transformers import BertTokenizer\n",
        "from sklearn.preprocessing import LabelEncoder\n",
        "from tensorflow.keras.models import load_model\n",
        "import numpy as np\n",
        "import pandas as pd\n",
        "from pyngrok import ngrok\n",
        "\n",
        "app = Flask(__name__)\n",
        "\n",
        "# Load the dataset\n",
        "df = pd.read_csv('/content/Dataset Japri Final - Data Pekerjaan.csv')\n",
        "\n",
        "# Extract 'Deskripsi Diri' and 'Nama Pekerjaan' from the dataframe\n",
        "deskripsi_diri = df['Deskripsi Diri'].values.astype('str')\n",
        "bidang_pekerjaan = df['Nama Pekerjaan'].values.astype('str')\n",
        "\n",
        "# Initialize the tokenizer, model, and label encoder\n",
        "tokenizer = BertTokenizer.from_pretrained('cahya/bert-base-indonesian-522M')\n",
        "custom_objects = {'TFBertModel': TFBertModel}\n",
        "loaded_model = load_model('model.h5', custom_objects=custom_objects)  # Assuming 'model.h5' is in the correct path\n",
        "label_encoder = LabelEncoder()\n",
        "label_encoder.fit(bidang_pekerjaan)\n",
        "\n",
        "threshold_value = 0.15  # Threshold value for similarity\n",
        "\n",
        "def predict_job_description(description, threshold=threshold_value):\n",
        "    tokenized_new_description = tokenizer(description.lower(), padding=True, truncation=True, return_tensors=\"tf\")\n",
        "    predictions = loaded_model.predict(tokenized_new_description.input_ids.numpy())\n",
        "    top_indices = np.argsort(predictions, axis=1)[0][::-1]\n",
        "    top_probabilities = np.sort(predictions, axis=1)[0][::-1]\n",
        "\n",
        "    similarity_scores = []\n",
        "    for i, idx in enumerate(top_indices):\n",
        "        if top_probabilities[i] >= threshold:\n",
        "            job_name = label_encoder.inverse_transform([idx])[0]\n",
        "            similarity_scores.append((job_name, top_probabilities[i]))\n",
        "\n",
        "    return similarity_scores\n",
        "\n",
        "@app.route('/', methods=['GET'])\n",
        "def home():\n",
        "    return \"<h1>Selamat datang di aplikasi prediksi pekerjaan!</h1>\"\n",
        "\n",
        "@app.route('/form', methods=['GET'])\n",
        "def show_form():\n",
        "    return render_template('form.html')\n",
        "\n",
        "@app.route('/predict', methods=['POST'])\n",
        "def predict():\n",
        "    data = request.form['input']\n",
        "\n",
        "    # Get recommended jobs based on input description\n",
        "    predicted_jobs_above_threshold = predict_job_description(data.lower())\n",
        "\n",
        "    # Display the predicted jobs\n",
        "    if predicted_jobs_above_threshold:\n",
        "        return render_template('result.html', predictions=predicted_jobs_above_threshold)\n",
        "    else:\n",
        "        return \"Tidak ada pekerjaan yang memenuhi.\"\n",
        "\n",
        "if __name__ == '__main__':\n",
        "    public_url = ngrok.connect(5000)\n",
        "    print(f\" * Running on {public_url}\")\n",
        "    app.run()"
      ]
    }
  ],
  "metadata": {
    "accelerator": "GPU",
    "colab": {
      "provenance": []
    },
    "kernelspec": {
      "display_name": "Python 3",
      "name": "python3"
    },
    "language_info": {
      "name": "python"
    }
  },
  "nbformat": 4,
  "nbformat_minor": 0
}